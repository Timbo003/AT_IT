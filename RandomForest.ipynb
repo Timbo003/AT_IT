{
 "cells": [
  {
   "cell_type": "code",
   "execution_count": 5,
   "metadata": {},
   "outputs": [],
   "source": [
    "#imports\n",
    "import matplotlib.pyplot as plt\n",
    " \n",
    "import pandas as pd\n",
    "import itertools\n",
    "from itertools import combinations\n",
    "import numpy as np\n",
    " \n",
    "from sklearn.model_selection import train_test_split, cross_val_score, StratifiedKFold, cross_val_predict, RandomizedSearchCV, KFold\n",
    "from sklearn.tree import DecisionTreeClassifier, export_text, plot_tree\n",
    "from sklearn.metrics import (\n",
    "    accuracy_score, precision_score, recall_score, f1_score, \n",
    "    confusion_matrix, ConfusionMatrixDisplay, f1_score, classification_report, make_scorer\n",
    ")\n",
    "from sklearn import preprocessing\n",
    "from sklearn.preprocessing import MinMaxScaler\n",
    "from sklearn.naive_bayes import GaussianNB\n",
    "from sklearn.ensemble import RandomForestClassifier\n",
    "from sklearn.neural_network import MLPClassifier\n",
    "from sklearn.compose import ColumnTransformer\n",
    "from sklearn.pipeline import Pipeline\n",
    "from sklearn.neighbors import KNeighborsClassifier\n",
    "\n",
    "import folium \n",
    "\n",
    "from scipy.stats import randint\n",
    "\n",
    " \n",
    "#loading the Dataset into a pandas dataframe\n",
    "df = pd.read_csv('Airlines.csv')\n",
    "allAirports = pd.read_csv('AllAirports.csv')"
   ]
  },
  {
   "cell_type": "code",
   "execution_count": 6,
   "metadata": {},
   "outputs": [
    {
     "name": "stdout",
     "output_type": "stream",
     "text": [
      "        DayOfWeek      Time    Length  Airline  AirportFrom  AirportTo\n",
      "0        0.333333  0.003499  0.312977      4.0        253.0      135.0\n",
      "1        0.333333  0.003499  0.338931     14.0        217.0       60.0\n",
      "2        0.333333  0.006998  0.251908      1.0        154.0       80.0\n",
      "3        0.333333  0.006998  0.297710      1.0        253.0       80.0\n",
      "4        0.333333  0.013996  0.308397      2.0         14.0      252.0\n",
      "...           ...       ...       ...      ...          ...        ...\n",
      "539378   0.666667  1.000000  0.497710      4.0        203.0      264.0\n",
      "539379   0.666667  1.000000  0.465649      8.0        252.0       16.0\n",
      "539380   0.666667  1.000000  0.389313      8.0        253.0      184.0\n",
      "539381   0.666667  1.000000  0.477863     13.0        128.0      253.0\n",
      "539382   0.666667  1.000000  0.459542     14.0        154.0      216.0\n",
      "\n",
      "[539383 rows x 6 columns]\n",
      "0         1\n",
      "1         1\n",
      "2         1\n",
      "3         1\n",
      "4         0\n",
      "         ..\n",
      "539378    0\n",
      "539379    0\n",
      "539380    0\n",
      "539381    1\n",
      "539382    1\n",
      "Name: Delay, Length: 539383, dtype: int64\n"
     ]
    }
   ],
   "source": [
    "# Select features and target variable (id is not needed)\n",
    "features = ['Airline', 'AirportFrom', 'AirportTo', 'DayOfWeek', 'Time', 'Length']\n",
    "target = 'Delay'\n",
    "X = df[features]\n",
    "y = df[target]\n",
    "\n",
    "# Preprossing of the data\n",
    "encoder = preprocessing.OrdinalEncoder()\n",
    "encoded = pd.DataFrame(encoder.fit_transform(X[['Airline', 'AirportFrom', 'AirportTo']]), columns = encoder.get_feature_names_out(['Airline', 'AirportFrom', 'AirportTo']))\n",
    "\n",
    "X = X.drop(columns = ['Airline', 'AirportFrom', 'AirportTo'])\n",
    "X = X.join(encoded)\n",
    "\n",
    "# Separate continuous and categorical columns\n",
    "continuous_cols = ['DayOfWeek', 'Time', 'Length']\n",
    "categorical_cols = [col for col in X.columns if col not in continuous_cols]\n",
    "\n",
    "# Instantiate MinMaxScaler\n",
    "min_max_scaler = MinMaxScaler()\n",
    "\n",
    "# Apply MinMaxScaler only to continuous columns\n",
    "X[continuous_cols] = min_max_scaler.fit_transform(X[continuous_cols])\n",
    "\n",
    "# print data frames\n",
    "print(X)\n",
    "print(y)\n",
    "\n",
    "# train and test data split\n",
    "X_train, X_test, y_train, y_test = train_test_split(X, y, test_size=0.2, random_state=42) # 80% training and 20% testing"
   ]
  },
  {
   "cell_type": "code",
   "execution_count": 7,
   "metadata": {},
   "outputs": [
    {
     "name": "stdout",
     "output_type": "stream",
     "text": [
      "{'classifier__n_estimators': 50, 'classifier__min_samples_split': 15, 'classifier__min_samples_leaf': 10, 'classifier__max_depth': None, 'classifier__criterion': 'gini'}\n",
      "Cross Validated score (mean): 0.6657543607299039\n",
      "Accuracy:  0.668752375390491\n",
      "Precision:  0.6558798108698968\n",
      "Recall:  0.537543230967957\n",
      "F1:  0.5908445543647521\n"
     ]
    }
   ],
   "source": [
    "# Create a Random Forest classifier within a pipeline\n",
    "\n",
    "clf = Pipeline([\n",
    "    ('classifier', RandomForestClassifier(random_state=42))\n",
    "])\n",
    "\n",
    "kfold = KFold(n_splits=5, shuffle=True, random_state=42)\n",
    "\n",
    "# Define the parameter grid for randomized search\n",
    "\n",
    "param_grid = {\n",
    "    'classifier__n_estimators': [10, 50, 100],\n",
    "    'classifier__max_depth' : [None, 10, 20],\n",
    "    'classifier__min_samples_split': [2, 5, 10, 15],\n",
    "    'classifier__min_samples_leaf': [1, 2, 5, 10],\n",
    "    'classifier__criterion' : ['gini', 'entropy']\n",
    "}\n",
    "\n",
    "\n",
    "# Setup the randomized search\n",
    "random_search = RandomizedSearchCV(estimator = clf , param_distributions = param_grid, \n",
    "                                   n_iter = 15, cv = kfold, random_state=42, n_jobs = -1)\n",
    "\n",
    "# Fit the training data\n",
    "random_search.fit(X_train, y_train)\n",
    "\n",
    "# Get the best parameters\n",
    "best_params = random_search.best_params_\n",
    "\n",
    "print(best_params)\n",
    "\n",
    "score = cross_val_score(random_search, X_train, y_train, cv = kfold, scoring = make_scorer(accuracy_score), n_jobs = -1)\n",
    "print(\"Cross Validated score (mean): \" + str(score.mean()))\n",
    "\n",
    "# Get the best estimator\n",
    "best_estimator=random_search.best_estimator_ \n",
    "\n",
    "# Fit the best estimator on the full training set\n",
    "best_estimator.fit(X_train, y_train)\n",
    "\n",
    "# Make predictions on the testing set (20%)\n",
    "y_pred = best_estimator.predict(X_test)\n",
    "accuracy = accuracy_score(y_test, y_pred)\n",
    "print(\"Accuracy: \", accuracy)\n",
    "precision = precision_score(y_test, y_pred)\n",
    "print(\"Precision: \", precision)\n",
    "recall = recall_score(y_test, y_pred)\n",
    "print(\"Recall: \", recall)\n",
    "f1 = f1_score(y_test, y_pred)\n",
    "print(\"F1: \", f1)"
   ]
  },
  {
   "cell_type": "code",
   "execution_count": 8,
   "metadata": {},
   "outputs": [
    {
     "ename": "AttributeError",
     "evalue": "'RandomForestClassifier' object has no attribute 'cv_results_'",
     "output_type": "error",
     "traceback": [
      "\u001b[1;31m---------------------------------------------------------------------------\u001b[0m",
      "\u001b[1;31mAttributeError\u001b[0m                            Traceback (most recent call last)",
      "\u001b[1;32mi:\\Dokumente\\Studium\\AT IT 1\\Git\\AT_IT-1\\RandomForest.ipynb Cell 4\u001b[0m line \u001b[0;36m2\n\u001b[0;32m      <a href='vscode-notebook-cell:/i%3A/Dokumente/Studium/AT%20IT%201/Git/AT_IT-1/RandomForest.ipynb#W3sZmlsZQ%3D%3D?line=0'>1</a>\u001b[0m \u001b[39m# Get the best tree (best performing estimator) from the Random Forest\u001b[39;00m\n\u001b[1;32m----> <a href='vscode-notebook-cell:/i%3A/Dokumente/Studium/AT%20IT%201/Git/AT_IT-1/RandomForest.ipynb#W3sZmlsZQ%3D%3D?line=1'>2</a>\u001b[0m best_tree_index \u001b[39m=\u001b[39m np\u001b[39m.\u001b[39margmax(best_estimator\u001b[39m.\u001b[39;49mnamed_steps[\u001b[39m'\u001b[39;49m\u001b[39mclassifier\u001b[39;49m\u001b[39m'\u001b[39;49m]\u001b[39m.\u001b[39;49mcv_results_[\u001b[39m'\u001b[39m\u001b[39mmean_test_score\u001b[39m\u001b[39m'\u001b[39m]) \u001b[39m#Find index of the best tree\u001b[39;00m\n\u001b[0;32m      <a href='vscode-notebook-cell:/i%3A/Dokumente/Studium/AT%20IT%201/Git/AT_IT-1/RandomForest.ipynb#W3sZmlsZQ%3D%3D?line=2'>3</a>\u001b[0m best_tree \u001b[39m=\u001b[39m best_estimator\u001b[39m.\u001b[39mnamed_steps[\u001b[39m'\u001b[39m\u001b[39mclassifier\u001b[39m\u001b[39m'\u001b[39m]\u001b[39m.\u001b[39mestimators_[best_tree_index] \u001b[39m# Return best tree\u001b[39;00m\n\u001b[0;32m      <a href='vscode-notebook-cell:/i%3A/Dokumente/Studium/AT%20IT%201/Git/AT_IT-1/RandomForest.ipynb#W3sZmlsZQ%3D%3D?line=4'>5</a>\u001b[0m \u001b[39m# Plot the best performing tree\u001b[39;00m\n",
      "\u001b[1;31mAttributeError\u001b[0m: 'RandomForestClassifier' object has no attribute 'cv_results_'"
     ]
    }
   ],
   "source": [
    "# Get the best tree (best performing estimator) from the Random Forest\n",
    "best_tree_index = np.argmax(best_estimator.named_steps['classifier'].cv_results_['mean_test_score']) #Find index of the best tree\n",
    "best_tree = best_estimator.named_steps['classifier'].estimators_[best_tree_index] # Return best tree\n",
    "\n",
    "# Plot the best performing tree\n",
    "plt.figure(figsize=(12,8))\n",
    "best_tree.plot_tree(best_tree, feature_names=X_train.columns, class_names=True, filled=True)\n",
    "plt.show()"
   ]
  },
  {
   "cell_type": "code",
   "execution_count": null,
   "metadata": {},
   "outputs": [],
   "source": [
    "y_pred=best_tree.predict(X_test)\n",
    "\n",
    "# Create confusion matrix\n",
    "cm=confusion_matrix(y_test, y_pred)\n",
    "\n",
    "# Display the confusion matrix\n",
    "print(cm)"
   ]
  }
 ],
 "metadata": {
  "kernelspec": {
   "display_name": "Python 3",
   "language": "python",
   "name": "python3"
  },
  "language_info": {
   "codemirror_mode": {
    "name": "ipython",
    "version": 3
   },
   "file_extension": ".py",
   "mimetype": "text/x-python",
   "name": "python",
   "nbconvert_exporter": "python",
   "pygments_lexer": "ipython3",
   "version": "3.11.5"
  }
 },
 "nbformat": 4,
 "nbformat_minor": 2
}
