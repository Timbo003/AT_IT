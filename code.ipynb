{
 "cells": [
  {
   "cell_type": "markdown",
   "metadata": {},
   "source": [
    "# test\n",
    "hallo mein name ist Tim"
   ]
  },
  {
   "cell_type": "code",
   "execution_count": 3,
   "metadata": {},
   "outputs": [
    {
     "name": "stdout",
     "output_type": "stream",
     "text": [
      "Training Set:\n",
      "            id Airline  Flight AirportFrom AirportTo  DayOfWeek  Time  Length  \\\n",
      "498081  498082      F9     796         PDX       DEN          3   900     143   \n",
      "203828  203829      WN    3586         SAN       SJC          7  1185      80   \n",
      "156549  156550      AA     705         LGA       DFW          5   365     250   \n",
      "66053    66054      DL    2825         BOS       MSP          6  1090     207   \n",
      "165376  165377      FL    1102         CMH       RSW          5   818     150   \n",
      "\n",
      "        Delay  \n",
      "498081      0  \n",
      "203828      1  \n",
      "156549      1  \n",
      "66053       0  \n",
      "165376      1  \n",
      "\n",
      "Testing Set:\n",
      "            id Airline  Flight AirportFrom AirportTo  DayOfWeek  Time  Length  \\\n",
      "442150  442151      OO    6477         SMF       LAX          7   881      85   \n",
      "229730  229731      UA     310         DEN       LGA          2   665     223   \n",
      "69994    69995      WN    1739         OAK       LAS          7   465      85   \n",
      "414293  414294      B6    1085         JFK       CLT          5   990     131   \n",
      "171704  171705      AS     129         SEA       FAI          5  1150     235   \n",
      "\n",
      "        Delay  \n",
      "442150      1  \n",
      "229730      1  \n",
      "69994       1  \n",
      "414293      0  \n",
      "171704      1  \n"
     ]
    }
   ],
   "source": [
    "import pandas as pd\n",
    "from sklearn.model_selection import train_test_split\n",
    "\n",
    "df = pd.read_csv('Airlines.csv')\n",
    "\n",
    "# Randomly split the DataFrame into two parts (e.g., 80% for train and 20% for test)\n",
    "df_train, df_test = train_test_split(df, test_size=0.2, random_state=42)\n",
    "\n",
    "# Display the first few rows of each split DataFrame\n",
    "print(\"Training Set:\")\n",
    "print(df_train.head())\n",
    "\n",
    "print(\"\\nTesting Set:\")\n",
    "print(df_test.head())"
   ]
  },
  {
   "cell_type": "code",
   "execution_count": 17,
   "metadata": {},
   "outputs": [],
   "source": []
  }
 ],
 "metadata": {
  "kernelspec": {
   "display_name": "Python 3",
   "language": "python",
   "name": "python3"
  },
  "language_info": {
   "codemirror_mode": {
    "name": "ipython",
    "version": 3
   },
   "file_extension": ".py",
   "mimetype": "text/x-python",
   "name": "python",
   "nbconvert_exporter": "python",
   "pygments_lexer": "ipython3",
   "version": "3.11.0"
  }
 },
 "nbformat": 4,
 "nbformat_minor": 2
}
