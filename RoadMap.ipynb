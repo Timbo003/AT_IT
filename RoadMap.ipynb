{
 "cells": [
  {
   "cell_type": "markdown",
   "metadata": {},
   "source": [
    "# Road Map\n",
    "\n",
    "1. github einrichten :D\n",
    "2.Tim danken\n",
    "3.\n",
    "..."
   ]
  }
 ],
 "metadata": {
  "language_info": {
   "name": "python"
  }
 },
 "nbformat": 4,
 "nbformat_minor": 2
}
